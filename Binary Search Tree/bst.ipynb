{
 "cells": [
  {
   "cell_type": "code",
   "execution_count": 1,
   "id": "b2ec65c7-da1d-4431-91b5-54101d4cfdbc",
   "metadata": {
    "execution": {
     "iopub.execute_input": "2023-07-08T11:55:42.151058Z",
     "iopub.status.busy": "2023-07-08T11:55:42.149968Z",
     "iopub.status.idle": "2023-07-08T11:55:42.181890Z",
     "shell.execute_reply": "2023-07-08T11:55:42.180668Z",
     "shell.execute_reply.started": "2023-07-08T11:55:42.151006Z"
    },
    "tags": []
   },
   "outputs": [],
   "source": [
    "%load_ext autoreload"
   ]
  },
  {
   "cell_type": "code",
   "execution_count": 2,
   "id": "530ec98d-8736-48a5-ad8e-6514a075e5dd",
   "metadata": {
    "execution": {
     "iopub.execute_input": "2023-07-08T11:55:42.463048Z",
     "iopub.status.busy": "2023-07-08T11:55:42.462020Z",
     "iopub.status.idle": "2023-07-08T11:55:42.468763Z",
     "shell.execute_reply": "2023-07-08T11:55:42.467596Z",
     "shell.execute_reply.started": "2023-07-08T11:55:42.462998Z"
    }
   },
   "outputs": [],
   "source": [
    "%autoreload 1"
   ]
  },
  {
   "cell_type": "code",
   "execution_count": 5,
   "id": "4a2d5e7a-3ec5-411f-98f7-702cb8763808",
   "metadata": {
    "execution": {
     "iopub.execute_input": "2023-07-08T11:56:01.254546Z",
     "iopub.status.busy": "2023-07-08T11:56:01.254199Z",
     "iopub.status.idle": "2023-07-08T11:56:01.259664Z",
     "shell.execute_reply": "2023-07-08T11:56:01.258885Z",
     "shell.execute_reply.started": "2023-07-08T11:56:01.254526Z"
    },
    "tags": []
   },
   "outputs": [],
   "source": [
    "%aimport bst"
   ]
  },
  {
   "cell_type": "markdown",
   "id": "a841d283-b30f-4891-a175-79d71d04e6ea",
   "metadata": {},
   "source": [
    "### working of class node"
   ]
  },
  {
   "cell_type": "code",
   "execution_count": 6,
   "id": "854ed6f5-7e10-4105-9f40-5c61b9ddc368",
   "metadata": {
    "execution": {
     "iopub.execute_input": "2023-07-08T11:56:03.641900Z",
     "iopub.status.busy": "2023-07-08T11:56:03.640657Z",
     "iopub.status.idle": "2023-07-08T11:56:03.650308Z",
     "shell.execute_reply": "2023-07-08T11:56:03.648949Z",
     "shell.execute_reply.started": "2023-07-08T11:56:03.641849Z"
    },
    "tags": []
   },
   "outputs": [
    {
     "name": "stdout",
     "output_type": "stream",
     "text": [
      "12\n",
      "11\n"
     ]
    }
   ],
   "source": [
    "n1 = bst.Node(11)\n",
    "n2 = bst.Node(12)\n",
    "n3 = bst.Node(9)\n",
    "n4 = bst.Node(21)\n",
    "print(n2.data)\n",
    "print(n1.data)"
   ]
  },
  {
   "cell_type": "markdown",
   "id": "7629c8bc-88b2-4ec1-bab1-6cca94a660d0",
   "metadata": {},
   "source": [
    "### Creating a binary search tree"
   ]
  },
  {
   "cell_type": "code",
   "execution_count": 60,
   "id": "2abc3cf0-f254-49c2-9b79-bc46b672d1d3",
   "metadata": {
    "execution": {
     "iopub.execute_input": "2023-07-08T12:59:03.164683Z",
     "iopub.status.busy": "2023-07-08T12:59:03.164180Z",
     "iopub.status.idle": "2023-07-08T12:59:03.169683Z",
     "shell.execute_reply": "2023-07-08T12:59:03.168656Z",
     "shell.execute_reply.started": "2023-07-08T12:59:03.164653Z"
    },
    "tags": []
   },
   "outputs": [],
   "source": [
    "tree1 = bst.binarySearchTree()\n"
   ]
  },
  {
   "cell_type": "code",
   "execution_count": 61,
   "id": "126397b5-61ed-486a-8f85-8a5bea4d341a",
   "metadata": {
    "execution": {
     "iopub.execute_input": "2023-07-08T12:59:03.416167Z",
     "iopub.status.busy": "2023-07-08T12:59:03.415796Z",
     "iopub.status.idle": "2023-07-08T12:59:03.420374Z",
     "shell.execute_reply": "2023-07-08T12:59:03.419535Z",
     "shell.execute_reply.started": "2023-07-08T12:59:03.416139Z"
    },
    "tags": []
   },
   "outputs": [],
   "source": [
    "tree1.insert(10)"
   ]
  },
  {
   "cell_type": "code",
   "execution_count": 62,
   "id": "a031482a-9d0a-45e5-9678-05fa03601bd6",
   "metadata": {
    "execution": {
     "iopub.execute_input": "2023-07-08T12:59:03.669210Z",
     "iopub.status.busy": "2023-07-08T12:59:03.668753Z",
     "iopub.status.idle": "2023-07-08T12:59:03.675239Z",
     "shell.execute_reply": "2023-07-08T12:59:03.674391Z",
     "shell.execute_reply.started": "2023-07-08T12:59:03.669174Z"
    },
    "tags": []
   },
   "outputs": [
    {
     "data": {
      "text/plain": [
       "10"
      ]
     },
     "execution_count": 62,
     "metadata": {},
     "output_type": "execute_result"
    }
   ],
   "source": [
    "tree1.root_node.data"
   ]
  },
  {
   "cell_type": "code",
   "execution_count": 63,
   "id": "81f4573e-aeae-4f48-bd2c-85d614a04249",
   "metadata": {
    "execution": {
     "iopub.execute_input": "2023-07-08T12:59:03.920371Z",
     "iopub.status.busy": "2023-07-08T12:59:03.920011Z",
     "iopub.status.idle": "2023-07-08T12:59:03.924566Z",
     "shell.execute_reply": "2023-07-08T12:59:03.923726Z",
     "shell.execute_reply.started": "2023-07-08T12:59:03.920343Z"
    },
    "tags": []
   },
   "outputs": [],
   "source": [
    "tree1.insert(14)"
   ]
  },
  {
   "cell_type": "code",
   "execution_count": 64,
   "id": "873cbd85-befb-4694-8ebb-3fc2ce26f983",
   "metadata": {
    "execution": {
     "iopub.execute_input": "2023-07-08T12:59:04.374230Z",
     "iopub.status.busy": "2023-07-08T12:59:04.373661Z",
     "iopub.status.idle": "2023-07-08T12:59:04.378419Z",
     "shell.execute_reply": "2023-07-08T12:59:04.377465Z",
     "shell.execute_reply.started": "2023-07-08T12:59:04.374198Z"
    },
    "tags": []
   },
   "outputs": [],
   "source": [
    "tree1.insert(15)"
   ]
  },
  {
   "cell_type": "code",
   "execution_count": 65,
   "id": "c94c55a0-7e70-47c3-848e-5b3f554ac43b",
   "metadata": {
    "execution": {
     "iopub.execute_input": "2023-07-08T12:59:04.840067Z",
     "iopub.status.busy": "2023-07-08T12:59:04.839382Z",
     "iopub.status.idle": "2023-07-08T12:59:04.844877Z",
     "shell.execute_reply": "2023-07-08T12:59:04.843879Z",
     "shell.execute_reply.started": "2023-07-08T12:59:04.840028Z"
    },
    "tags": []
   },
   "outputs": [],
   "source": [
    "tree1.insert(1)\n",
    "tree1.insert(2)"
   ]
  },
  {
   "cell_type": "code",
   "execution_count": 66,
   "id": "d094345a-67b9-4cf0-b18e-abbae3ce0d13",
   "metadata": {
    "execution": {
     "iopub.execute_input": "2023-07-08T12:59:05.109867Z",
     "iopub.status.busy": "2023-07-08T12:59:05.109194Z",
     "iopub.status.idle": "2023-07-08T12:59:05.114838Z",
     "shell.execute_reply": "2023-07-08T12:59:05.113857Z",
     "shell.execute_reply.started": "2023-07-08T12:59:05.109827Z"
    },
    "tags": []
   },
   "outputs": [],
   "source": [
    "tree1.insert(10)\n",
    "tree1.insert(5)\n",
    "tree1.insert(15)\n",
    "tree1.insert(6)"
   ]
  },
  {
   "cell_type": "code",
   "execution_count": 67,
   "id": "5dec3745-1833-4d86-bf61-842f40cc26d6",
   "metadata": {
    "execution": {
     "iopub.execute_input": "2023-07-08T12:59:05.386843Z",
     "iopub.status.busy": "2023-07-08T12:59:05.386464Z",
     "iopub.status.idle": "2023-07-08T12:59:05.392474Z",
     "shell.execute_reply": "2023-07-08T12:59:05.391567Z",
     "shell.execute_reply.started": "2023-07-08T12:59:05.386818Z"
    },
    "tags": []
   },
   "outputs": [
    {
     "name": "stdout",
     "output_type": "stream",
     "text": [
      "the root node of the tree is  10\n",
      "the left child of the tree is  1\n",
      "the right child of the tree is  14\n"
     ]
    }
   ],
   "source": [
    "print('the root node of the tree is ', tree1.root_node.data)\n",
    "print('the left child of the tree is ', tree1.root_node.left_child.data)\n",
    "print('the right child of the tree is ', tree1.root_node.right_child.data)"
   ]
  },
  {
   "cell_type": "code",
   "execution_count": 68,
   "id": "88955837-d06c-4a52-a73f-b7e8cec0cc1a",
   "metadata": {
    "execution": {
     "iopub.execute_input": "2023-07-08T12:59:06.097023Z",
     "iopub.status.busy": "2023-07-08T12:59:06.096166Z",
     "iopub.status.idle": "2023-07-08T12:59:06.102435Z",
     "shell.execute_reply": "2023-07-08T12:59:06.101477Z",
     "shell.execute_reply.started": "2023-07-08T12:59:06.096985Z"
    },
    "tags": []
   },
   "outputs": [
    {
     "name": "stdout",
     "output_type": "stream",
     "text": [
      "the minimum value of the tree is  1\n"
     ]
    }
   ],
   "source": [
    "print('the minimum value of the tree is ', tree1.getMinValue())"
   ]
  },
  {
   "cell_type": "code",
   "execution_count": 69,
   "id": "e73c5b59-758d-4bb0-835d-b04a4dd14c9d",
   "metadata": {
    "execution": {
     "iopub.execute_input": "2023-07-08T12:59:06.741308Z",
     "iopub.status.busy": "2023-07-08T12:59:06.740811Z",
     "iopub.status.idle": "2023-07-08T12:59:06.746934Z",
     "shell.execute_reply": "2023-07-08T12:59:06.745955Z",
     "shell.execute_reply.started": "2023-07-08T12:59:06.741272Z"
    },
    "tags": []
   },
   "outputs": [
    {
     "name": "stdout",
     "output_type": "stream",
     "text": [
      "1\n",
      "2\n",
      "5\n",
      "6\n",
      "10\n",
      "10\n",
      "14\n",
      "15\n",
      "15\n"
     ]
    }
   ],
   "source": [
    "tree1.traverse()"
   ]
  },
  {
   "cell_type": "markdown",
   "id": "565091d3-1e8a-4353-8d0f-a0d3e747b564",
   "metadata": {},
   "source": [
    "### Tree using strings"
   ]
  },
  {
   "cell_type": "code",
   "execution_count": 42,
   "id": "54d380ff-b752-4d1f-82d9-a624c8f302f2",
   "metadata": {
    "execution": {
     "iopub.execute_input": "2023-07-08T12:25:04.791723Z",
     "iopub.status.busy": "2023-07-08T12:25:04.791288Z",
     "iopub.status.idle": "2023-07-08T12:25:04.796042Z",
     "shell.execute_reply": "2023-07-08T12:25:04.795215Z",
     "shell.execute_reply.started": "2023-07-08T12:25:04.791698Z"
    },
    "tags": []
   },
   "outputs": [],
   "source": [
    "tree2 = bst.binarySearchTree()\n"
   ]
  },
  {
   "cell_type": "code",
   "execution_count": 43,
   "id": "3d24bed9-92df-4c89-9857-312240f79292",
   "metadata": {
    "execution": {
     "iopub.execute_input": "2023-07-08T12:25:05.301732Z",
     "iopub.status.busy": "2023-07-08T12:25:05.300630Z",
     "iopub.status.idle": "2023-07-08T12:25:05.307956Z",
     "shell.execute_reply": "2023-07-08T12:25:05.306653Z",
     "shell.execute_reply.started": "2023-07-08T12:25:05.301684Z"
    },
    "tags": []
   },
   "outputs": [],
   "source": [
    "tree2.insert('A')\n",
    "tree2.insert('C')\n",
    "tree2.insert('Z')\n",
    "tree2.insert('G')\n"
   ]
  },
  {
   "cell_type": "code",
   "execution_count": 44,
   "id": "db90993d-6ca7-41f1-960d-5d1268aae0eb",
   "metadata": {
    "execution": {
     "iopub.execute_input": "2023-07-08T12:25:05.587694Z",
     "iopub.status.busy": "2023-07-08T12:25:05.587386Z",
     "iopub.status.idle": "2023-07-08T12:25:05.592394Z",
     "shell.execute_reply": "2023-07-08T12:25:05.591558Z",
     "shell.execute_reply.started": "2023-07-08T12:25:05.587673Z"
    },
    "tags": []
   },
   "outputs": [
    {
     "name": "stdout",
     "output_type": "stream",
     "text": [
      "the minimum value of the tree is  A\n"
     ]
    }
   ],
   "source": [
    "print('the minimum value of the tree is ', tree2.getMinValue())"
   ]
  },
  {
   "cell_type": "code",
   "execution_count": 46,
   "id": "70fa5036-4021-46af-a269-f618702afa48",
   "metadata": {
    "execution": {
     "iopub.execute_input": "2023-07-08T12:43:01.177895Z",
     "iopub.status.busy": "2023-07-08T12:43:01.176744Z",
     "iopub.status.idle": "2023-07-08T12:43:01.307011Z",
     "shell.execute_reply": "2023-07-08T12:43:01.306151Z",
     "shell.execute_reply.started": "2023-07-08T12:43:01.177843Z"
    },
    "tags": []
   },
   "outputs": [
    {
     "name": "stdout",
     "output_type": "stream",
     "text": [
      "A\n",
      "C\n",
      "G\n",
      "Z\n"
     ]
    }
   ],
   "source": [
    "tree2.traverse()"
   ]
  },
  {
   "cell_type": "markdown",
   "id": "830a8c1a-e309-4c60-8dd3-9caaa1cab907",
   "metadata": {},
   "source": [
    "### Removing a node"
   ]
  },
  {
   "cell_type": "code",
   "execution_count": 70,
   "id": "221b6b9e-b490-46ad-ba4e-18f20c443081",
   "metadata": {
    "execution": {
     "iopub.execute_input": "2023-07-08T12:59:19.002534Z",
     "iopub.status.busy": "2023-07-08T12:59:19.002097Z",
     "iopub.status.idle": "2023-07-08T12:59:19.007683Z",
     "shell.execute_reply": "2023-07-08T12:59:19.006800Z",
     "shell.execute_reply.started": "2023-07-08T12:59:19.002508Z"
    }
   },
   "outputs": [
    {
     "name": "stdout",
     "output_type": "stream",
     "text": [
      "1\n",
      "2\n",
      "5\n",
      "6\n",
      "10\n",
      "10\n",
      "14\n",
      "15\n",
      "15\n"
     ]
    }
   ],
   "source": [
    "tree1.traverse()"
   ]
  },
  {
   "cell_type": "code",
   "execution_count": 71,
   "id": "7f434e4b-3c29-4ece-889b-7ec5a9367220",
   "metadata": {
    "execution": {
     "iopub.execute_input": "2023-07-08T12:59:21.787942Z",
     "iopub.status.busy": "2023-07-08T12:59:21.787503Z",
     "iopub.status.idle": "2023-07-08T12:59:21.793185Z",
     "shell.execute_reply": "2023-07-08T12:59:21.792194Z",
     "shell.execute_reply.started": "2023-07-08T12:59:21.787915Z"
    },
    "tags": []
   },
   "outputs": [
    {
     "name": "stdout",
     "output_type": "stream",
     "text": [
      "Removing a node with a single right child\n"
     ]
    }
   ],
   "source": [
    "tree1.remove(5)"
   ]
  },
  {
   "cell_type": "code",
   "execution_count": 72,
   "id": "9a5bbc04-3628-4325-9c8f-a5b19c93f80c",
   "metadata": {
    "execution": {
     "iopub.execute_input": "2023-07-08T12:59:25.895872Z",
     "iopub.status.busy": "2023-07-08T12:59:25.895413Z",
     "iopub.status.idle": "2023-07-08T12:59:25.901090Z",
     "shell.execute_reply": "2023-07-08T12:59:25.900209Z",
     "shell.execute_reply.started": "2023-07-08T12:59:25.895843Z"
    }
   },
   "outputs": [
    {
     "name": "stdout",
     "output_type": "stream",
     "text": [
      "1\n",
      "2\n",
      "6\n",
      "10\n",
      "10\n",
      "14\n",
      "15\n",
      "15\n"
     ]
    }
   ],
   "source": [
    "tree1.traverse()"
   ]
  },
  {
   "cell_type": "code",
   "execution_count": null,
   "id": "745bc211-84ac-44b4-b79e-67709394cee0",
   "metadata": {},
   "outputs": [],
   "source": []
  }
 ],
 "metadata": {
  "kernelspec": {
   "display_name": "Python 3 (ipykernel)",
   "language": "python",
   "name": "python3"
  },
  "language_info": {
   "codemirror_mode": {
    "name": "ipython",
    "version": 3
   },
   "file_extension": ".py",
   "mimetype": "text/x-python",
   "name": "python",
   "nbconvert_exporter": "python",
   "pygments_lexer": "ipython3",
   "version": "3.10.6"
  }
 },
 "nbformat": 4,
 "nbformat_minor": 5
}
