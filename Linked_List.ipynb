{
 "cells": [
  {
   "cell_type": "markdown",
   "id": "fbd10c24-1202-4400-997c-1e2b783b2b7f",
   "metadata": {},
   "source": [
    "# Linked List implementation"
   ]
  },
  {
   "cell_type": "markdown",
   "id": "d8a2cf18-5dfc-4188-b6ff-c2e3486d4da2",
   "metadata": {
    "tags": []
   },
   "source": [
    "### Singly Linked List"
   ]
  },
  {
   "cell_type": "code",
   "execution_count": 1,
   "id": "c61c3ddd-8dde-4397-947c-99cc3a655475",
   "metadata": {
    "execution": {
     "iopub.execute_input": "2023-07-04T14:35:51.840737Z",
     "iopub.status.busy": "2023-07-04T14:35:51.839914Z",
     "iopub.status.idle": "2023-07-04T14:35:51.858989Z",
     "shell.execute_reply": "2023-07-04T14:35:51.857761Z",
     "shell.execute_reply.started": "2023-07-04T14:35:51.840688Z"
    },
    "tags": []
   },
   "outputs": [],
   "source": [
    "class Node:\n",
    "    def __init__(self, data):\n",
    "        self.data = data\n",
    "        self.next_node = None\n",
    "        \n",
    "class singlyLinkedList:\n",
    "    def __init__(self):\n",
    "        self.head_node = None\n",
    "        \n",
    "    def traversal(self):\n",
    "        if self.head_node:\n",
    "            temp_node = self.head_node\n",
    "            self.len_linked_list = 0\n",
    "            while temp_node:\n",
    "                print(temp_node.data, end = ' ')\n",
    "                temp_node = temp_node.next_node\n",
    "                self.len_linked_list += 1\n",
    "        else:\n",
    "            print('head node is not defined')"
   ]
  },
  {
   "cell_type": "code",
   "execution_count": 2,
   "id": "64015974-f565-42f5-940b-95b28a8d286a",
   "metadata": {
    "execution": {
     "iopub.execute_input": "2023-07-04T14:35:52.452713Z",
     "iopub.status.busy": "2023-07-04T14:35:52.451673Z",
     "iopub.status.idle": "2023-07-04T14:35:52.460740Z",
     "shell.execute_reply": "2023-07-04T14:35:52.459447Z",
     "shell.execute_reply.started": "2023-07-04T14:35:52.452664Z"
    },
    "tags": []
   },
   "outputs": [
    {
     "name": "stdout",
     "output_type": "stream",
     "text": [
      "22\n",
      "None\n",
      "34\n"
     ]
    }
   ],
   "source": [
    "n1 = Node(22)\n",
    "print(n1.data)\n",
    "print(n1.next_node)\n",
    "n2 = Node(34)\n",
    "print(n2.data)\n",
    "n3 = Node(54)\n",
    "n1.next_node = n2\n",
    "n2.next_node = n3"
   ]
  },
  {
   "cell_type": "code",
   "execution_count": 3,
   "id": "a25038b4-d30d-4bd4-8c8d-666913a63ae9",
   "metadata": {
    "execution": {
     "iopub.execute_input": "2023-07-04T14:35:53.078461Z",
     "iopub.status.busy": "2023-07-04T14:35:53.077499Z",
     "iopub.status.idle": "2023-07-04T14:35:53.085325Z",
     "shell.execute_reply": "2023-07-04T14:35:53.084149Z",
     "shell.execute_reply.started": "2023-07-04T14:35:53.078413Z"
    },
    "tags": []
   },
   "outputs": [
    {
     "name": "stdout",
     "output_type": "stream",
     "text": [
      "22\n",
      "22\n",
      "22 34 54 "
     ]
    }
   ],
   "source": [
    "sll = singlyLinkedList()\n",
    "sll.head_node = n1\n",
    "print(sll.head_node.data)\n",
    "print(n1.data)\n",
    "sll.traversal()"
   ]
  },
  {
   "cell_type": "markdown",
   "id": "7049ac1a-3aab-460b-8a68-0ad0ac9d07d6",
   "metadata": {
    "jp-MarkdownHeadingCollapsed": true,
    "tags": []
   },
   "source": [
    "### Insertion at the beginning "
   ]
  },
  {
   "cell_type": "code",
   "execution_count": 15,
   "id": "dc9a8880-1286-4137-9153-4a405ee5f04f",
   "metadata": {
    "execution": {
     "iopub.execute_input": "2023-07-04T14:53:04.404473Z",
     "iopub.status.busy": "2023-07-04T14:53:04.403276Z",
     "iopub.status.idle": "2023-07-04T14:53:04.414817Z",
     "shell.execute_reply": "2023-07-04T14:53:04.413441Z",
     "shell.execute_reply.started": "2023-07-04T14:53:04.404418Z"
    },
    "tags": []
   },
   "outputs": [],
   "source": [
    "class Node:\n",
    "    def __init__(self, data):\n",
    "        self.data = data\n",
    "        self.next_node = None\n",
    "        \n",
    "class singlyLinkedList:\n",
    "    def __init__(self):\n",
    "        self.head_node = None\n",
    "        \n",
    "    def traversal(self):\n",
    "        if self.head_node:\n",
    "            temp_node = self.head_node\n",
    "            self.len_linked_list = 0\n",
    "            while temp_node:\n",
    "                print(temp_node.data, end = ' ')\n",
    "                temp_node = temp_node.next_node\n",
    "                self.len_linked_list += 1\n",
    "        else:\n",
    "            print('head node is not defined')\n",
    "\n",
    "    def insert_at_beginning(self, data):\n",
    "        node_begin = Node(data)\n",
    "        node_begin.next_node = self.head_node\n",
    "        self.head_node = node_begin\n",
    "        "
   ]
  },
  {
   "cell_type": "code",
   "execution_count": 16,
   "id": "b4a2451d-4c30-484c-84cf-166a456c3e37",
   "metadata": {
    "execution": {
     "iopub.execute_input": "2023-07-04T14:53:04.769458Z",
     "iopub.status.busy": "2023-07-04T14:53:04.768338Z",
     "iopub.status.idle": "2023-07-04T14:53:04.776285Z",
     "shell.execute_reply": "2023-07-04T14:53:04.775061Z",
     "shell.execute_reply.started": "2023-07-04T14:53:04.769408Z"
    },
    "tags": []
   },
   "outputs": [],
   "source": [
    "n1 = Node(22)\n",
    "n2 = Node(34)\n",
    "n3 = Node(54)\n",
    "n4 = Node(37)\n",
    "n5 = Node(98)\n",
    "n1.next_node = n2\n",
    "n2.next_node = n3\n",
    "n3.next_node = n4\n",
    "n4.next_node = n5\n"
   ]
  },
  {
   "cell_type": "code",
   "execution_count": 17,
   "id": "93004e46-12e8-4d56-8f5e-8f70897600ae",
   "metadata": {
    "execution": {
     "iopub.execute_input": "2023-07-04T14:53:05.103301Z",
     "iopub.status.busy": "2023-07-04T14:53:05.102330Z",
     "iopub.status.idle": "2023-07-04T14:53:05.110072Z",
     "shell.execute_reply": "2023-07-04T14:53:05.108823Z",
     "shell.execute_reply.started": "2023-07-04T14:53:05.103252Z"
    },
    "tags": []
   },
   "outputs": [
    {
     "name": "stdout",
     "output_type": "stream",
     "text": [
      "22\n",
      "22 34 54 37 98 "
     ]
    }
   ],
   "source": [
    "sll = singlyLinkedList()\n",
    "sll.head_node = n1\n",
    "print(sll.head_node.data)\n",
    "sll.traversal()"
   ]
  },
  {
   "cell_type": "code",
   "execution_count": 18,
   "id": "8f1c3360-babc-4014-a883-79d035d34815",
   "metadata": {
    "execution": {
     "iopub.execute_input": "2023-07-04T14:53:06.427808Z",
     "iopub.status.busy": "2023-07-04T14:53:06.426754Z",
     "iopub.status.idle": "2023-07-04T14:53:06.433838Z",
     "shell.execute_reply": "2023-07-04T14:53:06.432501Z",
     "shell.execute_reply.started": "2023-07-04T14:53:06.427758Z"
    },
    "tags": []
   },
   "outputs": [
    {
     "name": "stdout",
     "output_type": "stream",
     "text": [
      "42 22 34 54 37 98 "
     ]
    }
   ],
   "source": [
    "sll.insert_at_beginning(42)\n",
    "sll.traversal()"
   ]
  },
  {
   "cell_type": "markdown",
   "id": "f08eea7c-1cd1-4f73-b3c6-807fd93fceb5",
   "metadata": {
    "jp-MarkdownHeadingCollapsed": true,
    "tags": []
   },
   "source": [
    "### Insertion at the end"
   ]
  },
  {
   "cell_type": "code",
   "execution_count": 23,
   "id": "7b336e14-d973-4c63-a7db-2c0f543f3674",
   "metadata": {
    "execution": {
     "iopub.execute_input": "2023-07-04T15:07:48.407369Z",
     "iopub.status.busy": "2023-07-04T15:07:48.406970Z",
     "iopub.status.idle": "2023-07-04T15:07:48.413780Z",
     "shell.execute_reply": "2023-07-04T15:07:48.412799Z",
     "shell.execute_reply.started": "2023-07-04T15:07:48.407350Z"
    },
    "tags": []
   },
   "outputs": [],
   "source": [
    "\n",
    "class Node:\n",
    "    def __init__(self, data):\n",
    "        self.data = data\n",
    "        self.next_node = None\n",
    "        \n",
    "class singlyLinkedList:\n",
    "    def __init__(self):\n",
    "        self.head_node = None\n",
    "        \n",
    "    def traversal(self):\n",
    "        if self.head_node:\n",
    "            temp_node = self.head_node\n",
    "            self.len_linked_list = 0\n",
    "            while temp_node:\n",
    "                print(temp_node.data, end = ' ')\n",
    "                temp_node = temp_node.next_node\n",
    "                self.len_linked_list += 1\n",
    "        else:\n",
    "            print('head node is not defined')\n",
    "\n",
    "    def insert_at_beginning(self, data):\n",
    "        node_begin = Node(data)\n",
    "        node_begin.next_node = self.head_node\n",
    "        self.head_node = node_begin\n",
    "        \n",
    "    def insert_at_end(self, data):\n",
    "        end_node = Node(data)\n",
    "        if self.head_node:\n",
    "            temp_node = self.head_node\n",
    "            while temp_node.next_node:\n",
    "                temp_node= temp_node.next_node\n",
    "            else:\n",
    "                temp_node.next_node = end_node\n",
    "        else:\n",
    "            print('head node is not defined')\n",
    "            "
   ]
  },
  {
   "cell_type": "code",
   "execution_count": 29,
   "id": "924b1db4-c472-403f-bcdc-38e5341561d7",
   "metadata": {
    "execution": {
     "iopub.execute_input": "2023-07-04T15:23:57.408486Z",
     "iopub.status.busy": "2023-07-04T15:23:57.408091Z",
     "iopub.status.idle": "2023-07-04T15:23:57.413453Z",
     "shell.execute_reply": "2023-07-04T15:23:57.412453Z",
     "shell.execute_reply.started": "2023-07-04T15:23:57.408464Z"
    },
    "tags": []
   },
   "outputs": [],
   "source": [
    "n1 = Node(22)\n",
    "n2 = Node(34)\n",
    "n3 = Node(54)\n",
    "n4 = Node(37)\n",
    "n5 = Node(98)\n",
    "n1.next_node = n2\n",
    "n2.next_node = n3\n",
    "n3.next_node = n4\n",
    "n4.next_node = n5\n"
   ]
  },
  {
   "cell_type": "code",
   "execution_count": 30,
   "id": "be81d215-d034-4e85-9acf-a24f34c3e5b5",
   "metadata": {
    "execution": {
     "iopub.execute_input": "2023-07-04T15:23:58.112447Z",
     "iopub.status.busy": "2023-07-04T15:23:58.112224Z",
     "iopub.status.idle": "2023-07-04T15:23:58.117547Z",
     "shell.execute_reply": "2023-07-04T15:23:58.116681Z",
     "shell.execute_reply.started": "2023-07-04T15:23:58.112427Z"
    },
    "tags": []
   },
   "outputs": [
    {
     "name": "stdout",
     "output_type": "stream",
     "text": [
      "22\n",
      "22 34 54 37 98 "
     ]
    }
   ],
   "source": [
    "sll = singlyLinkedList()\n",
    "sll.head_node = n1\n",
    "print(sll.head_node.data)\n",
    "sll.traversal()"
   ]
  },
  {
   "cell_type": "code",
   "execution_count": 26,
   "id": "7704f575-b252-4b8b-9e9b-9fee6fe4c7a3",
   "metadata": {
    "execution": {
     "iopub.execute_input": "2023-07-04T15:07:53.447961Z",
     "iopub.status.busy": "2023-07-04T15:07:53.446918Z",
     "iopub.status.idle": "2023-07-04T15:07:53.454265Z",
     "shell.execute_reply": "2023-07-04T15:07:53.453046Z",
     "shell.execute_reply.started": "2023-07-04T15:07:53.447910Z"
    },
    "tags": []
   },
   "outputs": [
    {
     "name": "stdout",
     "output_type": "stream",
     "text": [
      "22 34 54 37 98 4 "
     ]
    }
   ],
   "source": [
    "sll.insert_at_end(4)\n",
    "sll.traversal()"
   ]
  },
  {
   "cell_type": "code",
   "execution_count": 27,
   "id": "6f4e6b7c-5a3b-49e2-95ad-e1a7b29fed8f",
   "metadata": {
    "execution": {
     "iopub.execute_input": "2023-07-04T15:11:12.847627Z",
     "iopub.status.busy": "2023-07-04T15:11:12.846496Z",
     "iopub.status.idle": "2023-07-04T15:11:12.854047Z",
     "shell.execute_reply": "2023-07-04T15:11:12.852681Z",
     "shell.execute_reply.started": "2023-07-04T15:11:12.847572Z"
    }
   },
   "outputs": [
    {
     "name": "stdout",
     "output_type": "stream",
     "text": [
      "22 34 54 37 98 4 11 "
     ]
    }
   ],
   "source": [
    "sll.insert_at_end(11)\n",
    "sll.traversal()"
   ]
  },
  {
   "cell_type": "markdown",
   "id": "3c907939-d5d7-4f13-be49-ae67dd2181b3",
   "metadata": {
    "jp-MarkdownHeadingCollapsed": true,
    "tags": []
   },
   "source": [
    "### Insertion at specified point"
   ]
  },
  {
   "cell_type": "code",
   "execution_count": 54,
   "id": "8fe54338-da3c-4055-ae11-f306006d918b",
   "metadata": {
    "execution": {
     "iopub.execute_input": "2023-07-04T15:38:56.614321Z",
     "iopub.status.busy": "2023-07-04T15:38:56.613077Z",
     "iopub.status.idle": "2023-07-04T15:38:56.631502Z",
     "shell.execute_reply": "2023-07-04T15:38:56.630354Z",
     "shell.execute_reply.started": "2023-07-04T15:38:56.614268Z"
    },
    "tags": []
   },
   "outputs": [],
   "source": [
    "\n",
    "class Node:\n",
    "    def __init__(self, data):\n",
    "        self.data = data\n",
    "        self.next_node = None\n",
    "        \n",
    "class singlyLinkedList:\n",
    "    def __init__(self):\n",
    "        self.head_node = None\n",
    "        \n",
    "    def traversal(self):\n",
    "        if self.head_node:\n",
    "            temp_node = self.head_node\n",
    "            self.len_linked_list = 0\n",
    "            while temp_node:\n",
    "                print(temp_node.data, end = ' ')\n",
    "                temp_node = temp_node.next_node\n",
    "                self.len_linked_list += 1\n",
    "        else:\n",
    "            print('head node is not defined')\n",
    "\n",
    "    def insert_at_beginning(self, data):\n",
    "        node_begin = Node(data)\n",
    "        node_begin.next_node = self.head_node\n",
    "        self.head_node = node_begin\n",
    "        \n",
    "    def insert_at_end(self, data):\n",
    "        end_node = Node(data)\n",
    "        if self.head_node:\n",
    "            temp_node = self.head_node\n",
    "            while temp_node.next_node:\n",
    "                temp_node= temp_node.next_node\n",
    "            else:\n",
    "                temp_node.next_node = end_node\n",
    "        else:\n",
    "            print('head node is not defined')\n",
    "            \n",
    "    def insert_at_specified_node(self, data, position):\n",
    "        if position-1< self.len_linked_list:\n",
    "            node_at_position = Node(data)\n",
    "            temp_node = self.head_node\n",
    "            i = 0\n",
    "            while i < position -1:\n",
    "                temp_node = temp_node.next_node\n",
    "                i += 1\n",
    "            else:\n",
    "                node_at_position.next_node = temp_node.next_node\n",
    "                temp_node.next_node = node_at_position\n",
    "        else:\n",
    "            print('the position is out of bounds than the length of the linked list')\n",
    "                "
   ]
  },
  {
   "cell_type": "code",
   "execution_count": 64,
   "id": "0a0eae31-9fc6-4be5-a121-c6795e3a3318",
   "metadata": {
    "execution": {
     "iopub.execute_input": "2023-07-04T15:59:16.445318Z",
     "iopub.status.busy": "2023-07-04T15:59:16.444887Z",
     "iopub.status.idle": "2023-07-04T15:59:16.450273Z",
     "shell.execute_reply": "2023-07-04T15:59:16.449435Z",
     "shell.execute_reply.started": "2023-07-04T15:59:16.445293Z"
    },
    "tags": []
   },
   "outputs": [],
   "source": [
    "n1 = Node(22)\n",
    "n2 = Node(34)\n",
    "n3 = Node(54)\n",
    "n4 = Node(37)\n",
    "n5 = Node(98)\n",
    "n1.next_node = n2\n",
    "n2.next_node = n3\n",
    "n3.next_node = n4\n",
    "n4.next_node = n5\n"
   ]
  },
  {
   "cell_type": "code",
   "execution_count": 65,
   "id": "0b89d5d9-007d-451a-8e77-cdb49264e80b",
   "metadata": {
    "execution": {
     "iopub.execute_input": "2023-07-04T15:59:16.819425Z",
     "iopub.status.busy": "2023-07-04T15:59:16.819201Z",
     "iopub.status.idle": "2023-07-04T15:59:16.823903Z",
     "shell.execute_reply": "2023-07-04T15:59:16.823094Z",
     "shell.execute_reply.started": "2023-07-04T15:59:16.819405Z"
    },
    "tags": []
   },
   "outputs": [
    {
     "name": "stdout",
     "output_type": "stream",
     "text": [
      "22\n",
      "22 34 54 37 98 "
     ]
    }
   ],
   "source": [
    "sll = singlyLinkedList()\n",
    "sll.head_node = n1\n",
    "print(sll.head_node.data)\n",
    "sll.traversal()"
   ]
  },
  {
   "cell_type": "code",
   "execution_count": 66,
   "id": "324fbbe6-9f10-4dc3-b5ac-7dfc18be9b0c",
   "metadata": {
    "execution": {
     "iopub.execute_input": "2023-07-04T15:59:24.238065Z",
     "iopub.status.busy": "2023-07-04T15:59:24.237651Z",
     "iopub.status.idle": "2023-07-04T15:59:24.243012Z",
     "shell.execute_reply": "2023-07-04T15:59:24.242168Z",
     "shell.execute_reply.started": "2023-07-04T15:59:24.238040Z"
    },
    "tags": []
   },
   "outputs": [
    {
     "name": "stdout",
     "output_type": "stream",
     "text": [
      "22 34 54 37 98 "
     ]
    }
   ],
   "source": [
    "sll.del_end_node()\n",
    "sll.traversal()"
   ]
  },
  {
   "cell_type": "code",
   "execution_count": 57,
   "id": "b56464d6-f107-4624-9642-29c1c244f9ce",
   "metadata": {
    "execution": {
     "iopub.execute_input": "2023-07-04T15:38:57.360483Z",
     "iopub.status.busy": "2023-07-04T15:38:57.359715Z",
     "iopub.status.idle": "2023-07-04T15:38:57.366747Z",
     "shell.execute_reply": "2023-07-04T15:38:57.365439Z",
     "shell.execute_reply.started": "2023-07-04T15:38:57.360434Z"
    },
    "tags": []
   },
   "outputs": [
    {
     "name": "stdout",
     "output_type": "stream",
     "text": [
      "22 34 99 54 37 98 "
     ]
    }
   ],
   "source": [
    "sll.insert_at_specified_node(99, 2)\n",
    "sll.traversal()"
   ]
  },
  {
   "cell_type": "code",
   "execution_count": 58,
   "id": "23d87766-7b3e-4a6d-a12f-e8a6897849bd",
   "metadata": {
    "execution": {
     "iopub.execute_input": "2023-07-04T15:38:57.604571Z",
     "iopub.status.busy": "2023-07-04T15:38:57.603535Z",
     "iopub.status.idle": "2023-07-04T15:38:57.610622Z",
     "shell.execute_reply": "2023-07-04T15:38:57.609416Z",
     "shell.execute_reply.started": "2023-07-04T15:38:57.604521Z"
    },
    "tags": []
   },
   "outputs": [
    {
     "name": "stdout",
     "output_type": "stream",
     "text": [
      "the position is out of bounds than the length of the linked list\n",
      "22 34 99 54 37 98 "
     ]
    }
   ],
   "source": [
    "sll.insert_at_specified_node(88,11)\n",
    "sll.traversal()"
   ]
  },
  {
   "cell_type": "markdown",
   "id": "121e9f80-f446-4a6d-9c6d-89a310e73592",
   "metadata": {
    "jp-MarkdownHeadingCollapsed": true,
    "tags": []
   },
   "source": [
    "### Deletion at beginning"
   ]
  },
  {
   "cell_type": "code",
   "execution_count": 59,
   "id": "f63c452c-5a16-4bf6-b781-618c205d380a",
   "metadata": {
    "execution": {
     "iopub.execute_input": "2023-07-04T15:44:37.413425Z",
     "iopub.status.busy": "2023-07-04T15:44:37.412043Z",
     "iopub.status.idle": "2023-07-04T15:44:37.431168Z",
     "shell.execute_reply": "2023-07-04T15:44:37.429760Z",
     "shell.execute_reply.started": "2023-07-04T15:44:37.413368Z"
    }
   },
   "outputs": [],
   "source": [
    "\n",
    "class Node:\n",
    "    def __init__(self, data):\n",
    "        self.data = data\n",
    "        self.next_node = None\n",
    "        \n",
    "class singlyLinkedList:\n",
    "    def __init__(self):\n",
    "        self.head_node = None\n",
    "        \n",
    "    def traversal(self):\n",
    "        if self.head_node:\n",
    "            temp_node = self.head_node\n",
    "            self.len_linked_list = 0\n",
    "            while temp_node:\n",
    "                print(temp_node.data, end = ' ')\n",
    "                temp_node = temp_node.next_node\n",
    "                self.len_linked_list += 1\n",
    "        else:\n",
    "            print('head node is not defined')\n",
    "\n",
    "    def insert_at_beginning(self, data):\n",
    "        node_begin = Node(data)\n",
    "        node_begin.next_node = self.head_node\n",
    "        self.head_node = node_begin\n",
    "        \n",
    "    def insert_at_end(self, data):\n",
    "        end_node = Node(data)\n",
    "        if self.head_node:\n",
    "            temp_node = self.head_node\n",
    "            while temp_node.next_node:\n",
    "                temp_node= temp_node.next_node\n",
    "            else:\n",
    "                temp_node.next_node = end_node\n",
    "        else:\n",
    "            print('head node is not defined')\n",
    "            \n",
    "    def insert_at_specified_node(self, data, position):\n",
    "        if position-1< self.len_linked_list:\n",
    "            node_at_position = Node(data)\n",
    "            temp_node = self.head_node\n",
    "            i = 0\n",
    "            while i < position -1:\n",
    "                temp_node = temp_node.next_node\n",
    "                i += 1\n",
    "            else:\n",
    "                node_at_position.next_node = temp_node.next_node\n",
    "                temp_node.next_node = node_at_position\n",
    "        else:\n",
    "            print('the position is out of bounds than the length of the linked list')\n",
    "                \n",
    "                \n",
    "    def del_head_node(self):\n",
    "        if self.head_node:\n",
    "            temp_node = self.head_node\n",
    "            temp_node = temp_node.next_node\n",
    "            self.head_node = temp_node\n",
    "            "
   ]
  },
  {
   "cell_type": "markdown",
   "id": "cc7c5627-ed1d-4139-b839-804e8c59249f",
   "metadata": {
    "jp-MarkdownHeadingCollapsed": true,
    "tags": []
   },
   "source": [
    "### Delete end node"
   ]
  },
  {
   "cell_type": "code",
   "execution_count": 84,
   "id": "d6d11aa9-8f92-40c6-8480-c124fd01a2c5",
   "metadata": {
    "execution": {
     "iopub.execute_input": "2023-07-04T16:24:00.340903Z",
     "iopub.status.busy": "2023-07-04T16:24:00.339691Z",
     "iopub.status.idle": "2023-07-04T16:24:00.360459Z",
     "shell.execute_reply": "2023-07-04T16:24:00.359088Z",
     "shell.execute_reply.started": "2023-07-04T16:24:00.340845Z"
    },
    "tags": []
   },
   "outputs": [],
   "source": [
    "\n",
    "class Node:\n",
    "    def __init__(self, data):\n",
    "        self.data = data\n",
    "        self.next_node = None\n",
    "        \n",
    "class singlyLinkedList:\n",
    "    def __init__(self):\n",
    "        self.head_node = None\n",
    "        \n",
    "    def traversal(self):\n",
    "        if self.head_node:\n",
    "            temp_node = self.head_node\n",
    "            self.len_linked_list = 0\n",
    "            while temp_node:\n",
    "                print(temp_node.data, end = ' ')\n",
    "                temp_node = temp_node.next_node\n",
    "                self.len_linked_list += 1\n",
    "        else:\n",
    "            print('head node is not defined')\n",
    "\n",
    "    def insert_at_beginning(self, data):\n",
    "        node_begin = Node(data)\n",
    "        node_begin.next_node = self.head_node\n",
    "        self.head_node = node_begin\n",
    "        \n",
    "    def insert_at_end(self, data):\n",
    "        end_node = Node(data)\n",
    "        if self.head_node:\n",
    "            temp_node = self.head_node\n",
    "            while temp_node.next_node:\n",
    "                temp_node= temp_node.next_node\n",
    "            else:\n",
    "                temp_node.next_node = end_node\n",
    "        else:\n",
    "            print('head node is not defined')\n",
    "            \n",
    "    def insert_at_specified_node(self, data, position):\n",
    "        if position-1< self.len_linked_list:\n",
    "            node_at_position = Node(data)\n",
    "            temp_node = self.head_node\n",
    "            i = 0\n",
    "            while i < position -1:\n",
    "                temp_node = temp_node.next_node\n",
    "                i += 1\n",
    "            else:\n",
    "                node_at_position.next_node = temp_node.next_node\n",
    "                temp_node.next_node = node_at_position\n",
    "        else:\n",
    "            print('the position is out of bounds than the length of the linked list')\n",
    "                \n",
    "                \n",
    "    def del_head_node(self):\n",
    "        if self.head_node:\n",
    "            temp_node = self.head_node\n",
    "            temp_node = temp_node.next_node\n",
    "            self.head_node = temp_node\n",
    "            \n",
    "    def del_end_node(self):\n",
    "        if self.head_node:\n",
    "            previous_node = self.head_node\n",
    "            temp_node = self.head_node.next_node\n",
    "            while temp_node.next_node:\n",
    "                temp_node = temp_node.next_node\n",
    "                previous_node = previous_node.next_node\n",
    "            previous_node.next_node = None\n",
    "            "
   ]
  },
  {
   "cell_type": "code",
   "execution_count": 85,
   "id": "bbb6fefd-35f9-4f54-a985-9fe88ad08bee",
   "metadata": {
    "execution": {
     "iopub.execute_input": "2023-07-04T16:24:00.619008Z",
     "iopub.status.busy": "2023-07-04T16:24:00.617947Z",
     "iopub.status.idle": "2023-07-04T16:24:00.625883Z",
     "shell.execute_reply": "2023-07-04T16:24:00.624594Z",
     "shell.execute_reply.started": "2023-07-04T16:24:00.618956Z"
    },
    "tags": []
   },
   "outputs": [],
   "source": [
    "n1 = Node(22)\n",
    "n2 = Node(34)\n",
    "n3 = Node(54)\n",
    "n4 = Node(37)\n",
    "n5 = Node(98)\n",
    "n1.next_node = n2\n",
    "n2.next_node = n3\n",
    "n3.next_node = n4\n",
    "n4.next_node = n5\n"
   ]
  },
  {
   "cell_type": "code",
   "execution_count": 86,
   "id": "7bacb4d7-9c52-4e27-9b60-60005ccc0ee2",
   "metadata": {
    "execution": {
     "iopub.execute_input": "2023-07-04T16:24:00.907004Z",
     "iopub.status.busy": "2023-07-04T16:24:00.906026Z",
     "iopub.status.idle": "2023-07-04T16:24:00.913698Z",
     "shell.execute_reply": "2023-07-04T16:24:00.912502Z",
     "shell.execute_reply.started": "2023-07-04T16:24:00.906955Z"
    },
    "tags": []
   },
   "outputs": [
    {
     "name": "stdout",
     "output_type": "stream",
     "text": [
      "22\n",
      "22 34 54 37 98 "
     ]
    }
   ],
   "source": [
    "sll = singlyLinkedList()\n",
    "sll.head_node = n1\n",
    "print(sll.head_node.data)\n",
    "sll.traversal()"
   ]
  },
  {
   "cell_type": "code",
   "execution_count": 87,
   "id": "7ec4d77e-fd04-4132-bd21-4d3c4bc9d350",
   "metadata": {
    "execution": {
     "iopub.execute_input": "2023-07-04T16:24:01.191512Z",
     "iopub.status.busy": "2023-07-04T16:24:01.190736Z",
     "iopub.status.idle": "2023-07-04T16:24:01.197497Z",
     "shell.execute_reply": "2023-07-04T16:24:01.196322Z",
     "shell.execute_reply.started": "2023-07-04T16:24:01.191462Z"
    },
    "tags": []
   },
   "outputs": [
    {
     "name": "stdout",
     "output_type": "stream",
     "text": [
      "22 34 54 37 "
     ]
    }
   ],
   "source": [
    "sll.del_end_node()\n",
    "sll.traversal()"
   ]
  },
  {
   "cell_type": "markdown",
   "id": "b281df7d-800a-4585-8ef6-6f18e0faadd1",
   "metadata": {
    "jp-MarkdownHeadingCollapsed": true,
    "tags": []
   },
   "source": [
    "### Delete node at specified position"
   ]
  },
  {
   "cell_type": "code",
   "execution_count": 96,
   "id": "58f37b17-df7b-4bfe-9191-bcbc7207340d",
   "metadata": {
    "execution": {
     "iopub.execute_input": "2023-07-04T16:32:18.251376Z",
     "iopub.status.busy": "2023-07-04T16:32:18.250957Z",
     "iopub.status.idle": "2023-07-04T16:32:18.262808Z",
     "shell.execute_reply": "2023-07-04T16:32:18.261844Z",
     "shell.execute_reply.started": "2023-07-04T16:32:18.251351Z"
    },
    "tags": []
   },
   "outputs": [],
   "source": [
    "class Node:\n",
    "    def __init__(self, data):\n",
    "        \"\"\"\n",
    "        Initializes a new Node with the given data.\n",
    "\n",
    "        Args:\n",
    "            data: The data to be stored in the Node.\n",
    "        \"\"\"\n",
    "        self.data = data\n",
    "        self.next_node = None\n",
    "\n",
    "class SinglyLinkedList:\n",
    "    def __init__(self):\n",
    "        \"\"\"\n",
    "        Initializes a new SinglyLinkedList.\n",
    "        \"\"\"\n",
    "        self.head_node = None\n",
    "\n",
    "    def traversal(self):\n",
    "        \"\"\"\n",
    "        Traverses the linked list and prints the data of each node.\n",
    "\n",
    "        Prints:\n",
    "            The data of each node in the linked list.\n",
    "        \"\"\"\n",
    "        if self.head_node:\n",
    "            temp_node = self.head_node\n",
    "            self.len_linked_list = 0\n",
    "            while temp_node:\n",
    "                print(temp_node.data, end=' ')\n",
    "                temp_node = temp_node.next_node\n",
    "                self.len_linked_list += 1\n",
    "            print()\n",
    "        else:\n",
    "            print('Head node is not defined')\n",
    "\n",
    "    def insert_at_beginning(self, data):\n",
    "        \"\"\"\n",
    "        Inserts a new node with the given data at the beginning of the linked list.\n",
    "\n",
    "        Args:\n",
    "            data: The data to be stored in the new node.\n",
    "        \"\"\"\n",
    "        node_begin = Node(data)\n",
    "        node_begin.next_node = self.head_node\n",
    "        self.head_node = node_begin\n",
    "\n",
    "    def insert_at_end(self, data):\n",
    "        \"\"\"\n",
    "        Inserts a new node with the given data at the end of the linked list.\n",
    "\n",
    "        Args:\n",
    "            data: The data to be stored in the new node.\n",
    "        \"\"\"\n",
    "        end_node = Node(data)\n",
    "        if self.head_node:\n",
    "            temp_node = self.head_node\n",
    "            while temp_node.next_node:\n",
    "                temp_node = temp_node.next_node\n",
    "            else:\n",
    "                temp_node.next_node = end_node\n",
    "        else:\n",
    "            print('Head node is not defined')\n",
    "\n",
    "    def insert_at_specified_node(self, data, position):\n",
    "        \"\"\"\n",
    "        Inserts a new node with the given data at the specified position in the linked list.\n",
    "\n",
    "        Args:\n",
    "            data: The data to be stored in the new node.\n",
    "            position: The position in the linked list where the node should be inserted.\n",
    "        \"\"\"\n",
    "        if position - 1 < self.len_linked_list:\n",
    "            node_at_position = Node(data)\n",
    "            temp_node = self.head_node\n",
    "            i = 0\n",
    "            while i < position - 1:\n",
    "                temp_node = temp_node.next_node\n",
    "                i += 1\n",
    "            else:\n",
    "                node_at_position.next_node = temp_node.next_node\n",
    "                temp_node.next_node = node_at_position\n",
    "        else:\n",
    "            print('The position is out of bounds compared to the length of the linked list')\n",
    "\n",
    "    def del_head_node(self):\n",
    "        \"\"\"\n",
    "        Deletes the head node of the linked list.\n",
    "        \"\"\"\n",
    "        if self.head_node:\n",
    "            temp_node = self.head_node\n",
    "            temp_node = temp_node.next_node\n",
    "            self.head_node = temp_node\n",
    "\n",
    "    def del_end_node(self):\n",
    "        \"\"\"\n",
    "        Deletes the last node of the linked list.\n",
    "        \"\"\"\n",
    "        if self.head_node:\n",
    "            previous_node = self.head_node\n",
    "            temp_node = self.head_node.next_node\n",
    "            while temp_node.next_node:\n",
    "                temp_node = temp_node.next_node\n",
    "                previous_node = previous_node.next_node\n",
    "            previous_node.next_node = None\n",
    "\n",
    "    def del_at_specified_position(self, position):\n",
    "        \"\"\"\n",
    "        Deletes the node at the specified position in the linked list.\n",
    "\n",
    "        Args:\n",
    "            position: The position of the node to be deleted.\n",
    "        \"\"\"\n",
    "        if position - 1 < self.len_linked_list:\n",
    "            previous_node = self.head_node\n",
    "            temp_node = self.head_node.next_node\n",
    "            for i in range(1, position - 1):\n",
    "                temp_node = temp_node.next_node\n",
    "                previous_node = previous_node.next_node\n",
    "            previous_node.next_node = temp_node.next_node\n",
    "            temp_node.next_node = None\n",
    "        else:\n",
    "            print('The position is out of bounds compared to the length of the linked list')\n"
   ]
  },
  {
   "cell_type": "code",
   "execution_count": 97,
   "id": "f2bfd414-9703-496c-b5b0-60b4bd98dbd9",
   "metadata": {
    "execution": {
     "iopub.execute_input": "2023-07-04T16:32:18.541623Z",
     "iopub.status.busy": "2023-07-04T16:32:18.540514Z",
     "iopub.status.idle": "2023-07-04T16:32:18.548466Z",
     "shell.execute_reply": "2023-07-04T16:32:18.547265Z",
     "shell.execute_reply.started": "2023-07-04T16:32:18.541574Z"
    },
    "tags": []
   },
   "outputs": [],
   "source": [
    "n1 = Node(22)\n",
    "n2 = Node(34)\n",
    "n3 = Node(54)\n",
    "n4 = Node(37)\n",
    "n5 = Node(98)\n",
    "n1.next_node = n2\n",
    "n2.next_node = n3\n",
    "n3.next_node = n4\n",
    "n4.next_node = n5\n"
   ]
  },
  {
   "cell_type": "code",
   "execution_count": 98,
   "id": "8c21470e-a38b-45c1-95e8-e86c5ea78d8e",
   "metadata": {
    "execution": {
     "iopub.execute_input": "2023-07-04T16:32:18.913286Z",
     "iopub.status.busy": "2023-07-04T16:32:18.912324Z",
     "iopub.status.idle": "2023-07-04T16:32:18.919986Z",
     "shell.execute_reply": "2023-07-04T16:32:18.918728Z",
     "shell.execute_reply.started": "2023-07-04T16:32:18.913236Z"
    },
    "tags": []
   },
   "outputs": [
    {
     "name": "stdout",
     "output_type": "stream",
     "text": [
      "22\n",
      "22 34 54 37 98 "
     ]
    }
   ],
   "source": [
    "sll = singlyLinkedList()\n",
    "sll.head_node = n1\n",
    "print(sll.head_node.data)\n",
    "sll.traversal()"
   ]
  },
  {
   "cell_type": "code",
   "execution_count": 99,
   "id": "958e0608-c4fb-4697-8ca1-cf9fa575df15",
   "metadata": {
    "execution": {
     "iopub.execute_input": "2023-07-04T16:32:21.487699Z",
     "iopub.status.busy": "2023-07-04T16:32:21.486515Z",
     "iopub.status.idle": "2023-07-04T16:32:21.493990Z",
     "shell.execute_reply": "2023-07-04T16:32:21.492725Z",
     "shell.execute_reply.started": "2023-07-04T16:32:21.487644Z"
    },
    "tags": []
   },
   "outputs": [
    {
     "name": "stdout",
     "output_type": "stream",
     "text": [
      "22 54 37 98 "
     ]
    }
   ],
   "source": [
    "sll.del_at_specified_position(2)\n",
    "sll.traversal()"
   ]
  },
  {
   "cell_type": "markdown",
   "id": "9a65a93a-c967-41a3-980c-2e19a5c88522",
   "metadata": {
    "tags": []
   },
   "source": [
    "## Doubly Linked List"
   ]
  },
  {
   "cell_type": "code",
   "execution_count": 128,
   "id": "fbf8ac5c-6558-4560-a1e0-9aa4f019a2ce",
   "metadata": {
    "execution": {
     "iopub.execute_input": "2023-07-04T19:20:05.799536Z",
     "iopub.status.busy": "2023-07-04T19:20:05.799134Z",
     "iopub.status.idle": "2023-07-04T19:20:05.805903Z",
     "shell.execute_reply": "2023-07-04T19:20:05.805008Z",
     "shell.execute_reply.started": "2023-07-04T19:20:05.799517Z"
    },
    "tags": []
   },
   "outputs": [],
   "source": [
    "class Node:\n",
    "    def __init__(self, data):\n",
    "        self.data = data\n",
    "        self.previous_node = None\n",
    "        self.next_node = None\n",
    "        \n",
    "class doublyLinkedList:\n",
    "    def __init__(self):\n",
    "        self.head_node = None\n",
    "        self.end_node = None\n",
    "        \n",
    "    def traversal(self, direction = 'forward'):\n",
    "        if direction ==  'forward':\n",
    "            if self.head_node:\n",
    "                temp_node = self.head_node\n",
    "                while temp_node:\n",
    "                    print(temp_node.data, end = ' ')\n",
    "                    temp_node = temp_node.next_node\n",
    "            else:\n",
    "                print('the doubly linked list is empty')\n",
    "                \n",
    "        elif direction == 'reverse':\n",
    "            if self.end_node:\n",
    "                temp_node = self.end_node\n",
    "                while temp_node:\n",
    "                    print(temp_node.data, end = ' ')\n",
    "                    temp_node = temp_node.previous_node\n",
    "            else:\n",
    "                print('the doubly linked list is empty')\n",
    "\n",
    "                \n",
    "    "
   ]
  },
  {
   "cell_type": "code",
   "execution_count": 129,
   "id": "916b88f8-a0e3-488e-a586-1134ddb258ec",
   "metadata": {
    "execution": {
     "iopub.execute_input": "2023-07-04T19:20:06.113360Z",
     "iopub.status.busy": "2023-07-04T19:20:06.113183Z",
     "iopub.status.idle": "2023-07-04T19:20:06.117788Z",
     "shell.execute_reply": "2023-07-04T19:20:06.116959Z",
     "shell.execute_reply.started": "2023-07-04T19:20:06.113344Z"
    },
    "tags": []
   },
   "outputs": [],
   "source": [
    "n1 = Node(22)\n",
    "n2 = Node(34)\n",
    "n3 = Node(54)\n",
    "n4 = Node(37)\n",
    "n5 = Node(98)\n",
    "n1.previous_node = None\n",
    "n1.next_node = n2\n",
    "n2.previous_node = n1\n",
    "n2.next_node = n3\n",
    "n3.previous_node = n2\n",
    "n3.next_node = n4\n",
    "n4.previous_node = n3\n",
    "n4.next_node = n5\n",
    "n5.previous_node = n4\n"
   ]
  },
  {
   "cell_type": "code",
   "execution_count": 130,
   "id": "6a100594-ff18-49eb-9ed3-f67fca1dd9bd",
   "metadata": {
    "execution": {
     "iopub.execute_input": "2023-07-04T19:20:07.119181Z",
     "iopub.status.busy": "2023-07-04T19:20:07.119003Z",
     "iopub.status.idle": "2023-07-04T19:20:07.123917Z",
     "shell.execute_reply": "2023-07-04T19:20:07.123020Z",
     "shell.execute_reply.started": "2023-07-04T19:20:07.119165Z"
    },
    "tags": []
   },
   "outputs": [
    {
     "name": "stdout",
     "output_type": "stream",
     "text": [
      "22\n",
      "22 34 54 37 98 "
     ]
    }
   ],
   "source": [
    "sll = doublyLinkedList()\n",
    "sll.head_node = n1\n",
    "sll.end_node = n5\n",
    "print(sll.head_node.data)\n",
    "sll.traversal()"
   ]
  },
  {
   "cell_type": "code",
   "execution_count": 131,
   "id": "bb9c23e0-c060-4a43-b848-0d1654de28c7",
   "metadata": {
    "execution": {
     "iopub.execute_input": "2023-07-04T19:20:08.825339Z",
     "iopub.status.busy": "2023-07-04T19:20:08.825150Z",
     "iopub.status.idle": "2023-07-04T19:20:08.829966Z",
     "shell.execute_reply": "2023-07-04T19:20:08.829200Z",
     "shell.execute_reply.started": "2023-07-04T19:20:08.825323Z"
    },
    "tags": []
   },
   "outputs": [
    {
     "name": "stdout",
     "output_type": "stream",
     "text": [
      "98 37 54 34 22 "
     ]
    }
   ],
   "source": [
    "sll.traversal(direction='reverse')"
   ]
  },
  {
   "cell_type": "markdown",
   "id": "a449ca2f-7a61-4ef5-8533-8dcba215126c",
   "metadata": {},
   "source": [
    "### Insertion in the list"
   ]
  },
  {
   "cell_type": "code",
   "execution_count": 158,
   "id": "fe0451b5-c0a9-416d-a620-9285158e9224",
   "metadata": {
    "execution": {
     "iopub.execute_input": "2023-07-04T20:10:50.919826Z",
     "iopub.status.busy": "2023-07-04T20:10:50.919212Z",
     "iopub.status.idle": "2023-07-04T20:10:50.939455Z",
     "shell.execute_reply": "2023-07-04T20:10:50.938047Z",
     "shell.execute_reply.started": "2023-07-04T20:10:50.919774Z"
    },
    "tags": []
   },
   "outputs": [],
   "source": [
    "class Node:\n",
    "    def __init__(self, data):\n",
    "        self.data = data\n",
    "        self.previous_node = None\n",
    "        self.next_node = None\n",
    "        \n",
    "class doublyLinkedList:\n",
    "    def __init__(self):\n",
    "        self.head_node = None\n",
    "        self.end_node = None\n",
    "        \n",
    "    def traversal(self, direction = 'forward'):\n",
    "        self.len_linked_list = 0\n",
    "        if direction ==  'forward':\n",
    "            if self.head_node:\n",
    "                temp_node = self.head_node\n",
    "                while temp_node:\n",
    "                    print(temp_node.data, end = ' ')\n",
    "                    temp_node = temp_node.next_node\n",
    "                    self.len_linked_list += 1\n",
    "            else:\n",
    "                print('the doubly linked list is empty')\n",
    "                \n",
    "        elif direction == 'reverse':\n",
    "            if self.end_node:\n",
    "                temp_node = self.end_node\n",
    "                while temp_node:\n",
    "                    print(temp_node.data, end = ' ')\n",
    "                    temp_node = temp_node.previous_node\n",
    "                    self.len_linked_list += 1\n",
    "            else:\n",
    "                print('the doubly linked list is empty')\n",
    "\n",
    "                \n",
    "    def insert_at_beginning(self, data):\n",
    "        node_begin = Node(data)\n",
    "        node_begin.next_node = self.head_node\n",
    "        self.head_node.previoous_node = node_begin\n",
    "        self.head_node = node_begin\n",
    "        \n",
    "    def insert_at_end(self,data):\n",
    "        end_node = Node(data)\n",
    "        self.end_node.next_node = end_node\n",
    "        end_node.previous_node = self.end_node\n",
    "        self.end_node = end_node\n",
    "        \n",
    "    def insert_at_specified_position(self,data, position):\n",
    "        node_at_specified_position = Node(data)\n",
    "        if position - 1 < self.len_linked_list:\n",
    "            temp_node = self.head_node\n",
    "            for i in range(1, position -1):\n",
    "                temp_node = temp_node.next_node\n",
    "            node_at_specified_position.previous_node = temp_node\n",
    "            node_at_specified_position.next_node = temp_node.next_node\n",
    "            temp_node.next_node.previous_node = node_at_specified_position\n",
    "            temp_node.next_node = node_at_specified_position\n",
    "        else:\n",
    "            print('the position is out of bounds than the length of the linked list')"
   ]
  },
  {
   "cell_type": "code",
   "execution_count": 159,
   "id": "e47645b1-c324-443f-b60d-d4eec4b2c51b",
   "metadata": {
    "execution": {
     "iopub.execute_input": "2023-07-04T20:10:51.243954Z",
     "iopub.status.busy": "2023-07-04T20:10:51.242900Z",
     "iopub.status.idle": "2023-07-04T20:10:51.251916Z",
     "shell.execute_reply": "2023-07-04T20:10:51.250683Z",
     "shell.execute_reply.started": "2023-07-04T20:10:51.243905Z"
    },
    "tags": []
   },
   "outputs": [],
   "source": [
    "n1 = Node(22)\n",
    "n2 = Node(34)\n",
    "n3 = Node(54)\n",
    "n4 = Node(37)\n",
    "n5 = Node(98)\n",
    "n1.previous_node = None\n",
    "n1.next_node = n2\n",
    "n2.previous_node = n1\n",
    "n2.next_node = n3\n",
    "n3.previous_node = n2\n",
    "n3.next_node = n4\n",
    "n4.previous_node = n3\n",
    "n4.next_node = n5\n",
    "n5.previous_node = n4\n"
   ]
  },
  {
   "cell_type": "code",
   "execution_count": 160,
   "id": "608bd35f-ac88-4771-b83b-785f6dda00b9",
   "metadata": {
    "execution": {
     "iopub.execute_input": "2023-07-04T20:10:51.541488Z",
     "iopub.status.busy": "2023-07-04T20:10:51.540515Z",
     "iopub.status.idle": "2023-07-04T20:10:51.548374Z",
     "shell.execute_reply": "2023-07-04T20:10:51.547169Z",
     "shell.execute_reply.started": "2023-07-04T20:10:51.541440Z"
    },
    "tags": []
   },
   "outputs": [
    {
     "name": "stdout",
     "output_type": "stream",
     "text": [
      "22\n",
      "22 34 54 37 98 "
     ]
    }
   ],
   "source": [
    "sll = doublyLinkedList()\n",
    "sll.head_node = n1\n",
    "sll.end_node = n5\n",
    "print(sll.head_node.data)\n",
    "sll.traversal()"
   ]
  },
  {
   "cell_type": "code",
   "execution_count": 161,
   "id": "dec3a52c-6b5e-487f-943e-7a5ac65a6e88",
   "metadata": {
    "execution": {
     "iopub.execute_input": "2023-07-04T20:10:52.348589Z",
     "iopub.status.busy": "2023-07-04T20:10:52.347601Z",
     "iopub.status.idle": "2023-07-04T20:10:52.354865Z",
     "shell.execute_reply": "2023-07-04T20:10:52.353604Z",
     "shell.execute_reply.started": "2023-07-04T20:10:52.348537Z"
    },
    "tags": []
   },
   "outputs": [
    {
     "name": "stdout",
     "output_type": "stream",
     "text": [
      "22 34 99 54 37 98 "
     ]
    }
   ],
   "source": [
    "sll.insert_at_specified_position(99, 3)\n",
    "sll.traversal()"
   ]
  },
  {
   "cell_type": "markdown",
   "id": "67dac1bd-2d1b-4830-9448-ba5d0c98e7a5",
   "metadata": {},
   "source": [
    "### Deletion from the list"
   ]
  },
  {
   "cell_type": "code",
   "execution_count": 185,
   "id": "a0070c9d-581c-4219-ad1e-eecaa5efa1cf",
   "metadata": {
    "execution": {
     "iopub.execute_input": "2023-07-04T20:55:19.164210Z",
     "iopub.status.busy": "2023-07-04T20:55:19.163576Z",
     "iopub.status.idle": "2023-07-04T20:55:19.188058Z",
     "shell.execute_reply": "2023-07-04T20:55:19.186804Z",
     "shell.execute_reply.started": "2023-07-04T20:55:19.164160Z"
    },
    "tags": []
   },
   "outputs": [],
   "source": [
    "class Node:\n",
    "    def __init__(self, data):\n",
    "        \"\"\"\n",
    "        Initializes a new Node with the given data.\n",
    "\n",
    "        Args:\n",
    "            data: The data to be stored in the Node.\n",
    "        \"\"\"\n",
    "        self.data = data\n",
    "        self.previous_node = None\n",
    "        self.next_node = None\n",
    "\n",
    "class DoublyLinkedList:\n",
    "    def __init__(self):\n",
    "        \"\"\"\n",
    "        Initializes a new DoublyLinkedList.\n",
    "        \"\"\"\n",
    "        self.head_node = None\n",
    "        self.end_node = None\n",
    "\n",
    "    def traversal(self, direction='forward'):\n",
    "        \"\"\"\n",
    "        Traverses the doubly linked list and prints the data of each node.\n",
    "\n",
    "        Args:\n",
    "            direction: The direction of traversal (forward or reverse). Default is 'forward'.\n",
    "\n",
    "        Prints:\n",
    "            The data of each node in the doubly linked list.\n",
    "        \"\"\"\n",
    "        self.len_linked_list = 0\n",
    "        if direction == 'forward':\n",
    "            if self.head_node:\n",
    "                temp_node = self.head_node\n",
    "                while temp_node:\n",
    "                    print(temp_node.data, end=' ')\n",
    "                    temp_node = temp_node.next_node\n",
    "                    self.len_linked_list += 1\n",
    "            else:\n",
    "                print('The doubly linked list is empty')\n",
    "        elif direction == 'reverse':\n",
    "            if self.end_node:\n",
    "                temp_node = self.end_node\n",
    "                while temp_node:\n",
    "                    print(temp_node.data, end=' ')\n",
    "                    temp_node = temp_node.previous_node\n",
    "                    self.len_linked_list += 1\n",
    "            else:\n",
    "                print('The doubly linked list is empty')\n",
    "\n",
    "    def insert_at_beginning(self, data):\n",
    "        \"\"\"\n",
    "        Inserts a new node with the given data at the beginning of the doubly linked list.\n",
    "\n",
    "        Args:\n",
    "            data: The data to be stored in the new node.\n",
    "        \"\"\"\n",
    "        node_begin = Node(data)\n",
    "        node_begin.next_node = self.head_node\n",
    "        if self.head_node:\n",
    "            self.head_node.previous_node = node_begin\n",
    "        self.head_node = node_begin\n",
    "\n",
    "    def insert_at_end(self, data):\n",
    "        \"\"\"\n",
    "        Inserts a new node with the given data at the end of the doubly linked list.\n",
    "\n",
    "        Args:\n",
    "            data: The data to be stored in the new node.\n",
    "        \"\"\"\n",
    "        end_node = Node(data)\n",
    "        if self.head_node:\n",
    "            temp_node = self.head_node\n",
    "            while temp_node.next_node:\n",
    "                temp_node = temp_node.next_node\n",
    "            temp_node.next_node = end_node\n",
    "            end_node.previous_node = temp_node\n",
    "        else:\n",
    "            self.head_node = end_node\n",
    "        self.end_node = end_node\n",
    "\n",
    "    def insert_at_specified_position(self, data, position):\n",
    "        \"\"\"\n",
    "        Inserts a new node with the given data at the specified position in the doubly linked list.\n",
    "\n",
    "        Args:\n",
    "            data: The data to be stored in the new node.\n",
    "            position: The position in the doubly linked list where the node should be inserted.\n",
    "        \"\"\"\n",
    "        node_at_specified_position = Node(data)\n",
    "        if position - 1 < self.len_linked_list:\n",
    "            temp_node = self.head_node\n",
    "            for i in range(1, position - 1):\n",
    "                temp_node = temp_node.next_node\n",
    "            node_at_specified_position.previous_node = temp_node\n",
    "            node_at_specified_position.next_node = temp_node.next_node\n",
    "            temp_node.next_node.previous_node = node_at_specified_position\n",
    "            temp_node.next_node = node_at_specified_position\n",
    "        else:\n",
    "            print('The position is out of bounds compared to the length of the linked list')\n",
    "\n",
    "    def del_head_node(self):\n",
    "        \"\"\"\n",
    "        Deletes the head node of the doubly linked list.\n",
    "        \"\"\"\n",
    "        if self.head_node:\n",
    "            self.head_node.next_node.previous_node = None\n",
    "            self.head_node = self.head_node.next_node\n",
    "\n",
    "    def del_end_node(self):\n",
    "        \"\"\"\n",
    "        Deletes the end node of the doubly linked list.\n",
    "        \"\"\"\n",
    "        if self.end_node:\n",
    "            self.end_node.previous_node.next_node = None\n",
    "            self.end_node = self.end_node.previous_node\n",
    "\n",
    "    def del_at_specified_position(self, position):\n",
    "        \"\"\"\n",
    "        Deletes the node at the specified position in the doubly linked list.\n",
    "\n",
    "        Args:\n",
    "            position: The position of the node to be deleted.\n",
    "        \"\"\"\n",
    "        temp_node = self.head_node.next_node\n",
    "        another_temp_node = self.head_node\n",
    "        for i in range(1, position - 1):\n",
    "            temp_node = temp_node.next_node\n",
    "            another_temp_node = another_temp_node.next_node\n",
    "        another_temp_node.next_node = temp_node.next_node\n",
    "        temp_node.next_node.previous_node = another_temp_node\n",
    "        temp_node.next_node = None\n",
    "        temp_node.previous_node = None\n"
   ]
  },
  {
   "cell_type": "code",
   "execution_count": 186,
   "id": "d99ac4bb-a34d-46c5-96ab-dcb2fc57ac1a",
   "metadata": {
    "execution": {
     "iopub.execute_input": "2023-07-04T20:55:19.448957Z",
     "iopub.status.busy": "2023-07-04T20:55:19.448272Z",
     "iopub.status.idle": "2023-07-04T20:55:19.457098Z",
     "shell.execute_reply": "2023-07-04T20:55:19.455892Z",
     "shell.execute_reply.started": "2023-07-04T20:55:19.448906Z"
    },
    "tags": []
   },
   "outputs": [],
   "source": [
    "n1 = Node(22)\n",
    "n2 = Node(34)\n",
    "n3 = Node(54)\n",
    "n4 = Node(37)\n",
    "n5 = Node(98)\n",
    "n1.previous_node = None\n",
    "n1.next_node = n2\n",
    "n2.previous_node = n1\n",
    "n2.next_node = n3\n",
    "n3.previous_node = n2\n",
    "n3.next_node = n4\n",
    "n4.previous_node = n3\n",
    "n4.next_node = n5\n",
    "n5.previous_node = n4\n"
   ]
  },
  {
   "cell_type": "code",
   "execution_count": 187,
   "id": "8e957d6f-07b1-4ce2-a8a0-a7bfeaeee141",
   "metadata": {
    "execution": {
     "iopub.execute_input": "2023-07-04T20:55:19.761095Z",
     "iopub.status.busy": "2023-07-04T20:55:19.760091Z",
     "iopub.status.idle": "2023-07-04T20:55:19.768077Z",
     "shell.execute_reply": "2023-07-04T20:55:19.766827Z",
     "shell.execute_reply.started": "2023-07-04T20:55:19.761044Z"
    },
    "tags": []
   },
   "outputs": [
    {
     "name": "stdout",
     "output_type": "stream",
     "text": [
      "22\n",
      "22 34 54 37 98 "
     ]
    }
   ],
   "source": [
    "sll = doublyLinkedList()\n",
    "sll.head_node = n1\n",
    "sll.end_node = n5\n",
    "print(sll.head_node.data)\n",
    "sll.traversal()"
   ]
  },
  {
   "cell_type": "code",
   "execution_count": 188,
   "id": "46ed1783-2ff0-412a-afd0-15ff449d6f1e",
   "metadata": {
    "execution": {
     "iopub.execute_input": "2023-07-04T20:55:20.312800Z",
     "iopub.status.busy": "2023-07-04T20:55:20.311806Z",
     "iopub.status.idle": "2023-07-04T20:55:20.318680Z",
     "shell.execute_reply": "2023-07-04T20:55:20.317465Z",
     "shell.execute_reply.started": "2023-07-04T20:55:20.312749Z"
    },
    "tags": []
   },
   "outputs": [
    {
     "name": "stdout",
     "output_type": "stream",
     "text": [
      "34 54 37 98 "
     ]
    }
   ],
   "source": [
    "sll.del_head_node()\n",
    "sll.traversal()"
   ]
  },
  {
   "cell_type": "code",
   "execution_count": 189,
   "id": "795b5d9a-5851-4afa-b4c9-9138800b3a01",
   "metadata": {
    "execution": {
     "iopub.execute_input": "2023-07-04T20:55:20.688882Z",
     "iopub.status.busy": "2023-07-04T20:55:20.687897Z",
     "iopub.status.idle": "2023-07-04T20:55:20.694742Z",
     "shell.execute_reply": "2023-07-04T20:55:20.693564Z",
     "shell.execute_reply.started": "2023-07-04T20:55:20.688833Z"
    },
    "tags": []
   },
   "outputs": [
    {
     "name": "stdout",
     "output_type": "stream",
     "text": [
      "34 54 37 "
     ]
    }
   ],
   "source": [
    "sll.del_end_node()\n",
    "sll.traversal()"
   ]
  },
  {
   "cell_type": "code",
   "execution_count": 190,
   "id": "2449a32c-a953-4303-8d41-8e94e3085bbf",
   "metadata": {
    "execution": {
     "iopub.execute_input": "2023-07-04T20:55:21.044690Z",
     "iopub.status.busy": "2023-07-04T20:55:21.043751Z",
     "iopub.status.idle": "2023-07-04T20:55:21.050519Z",
     "shell.execute_reply": "2023-07-04T20:55:21.049217Z",
     "shell.execute_reply.started": "2023-07-04T20:55:21.044642Z"
    },
    "tags": []
   },
   "outputs": [
    {
     "name": "stdout",
     "output_type": "stream",
     "text": [
      "34 37 "
     ]
    }
   ],
   "source": [
    "sll.del_at_specified_position(2)\n",
    "sll.traversal()"
   ]
  },
  {
   "cell_type": "code",
   "execution_count": null,
   "id": "9a233a14-9e93-4820-88a1-51a262362b49",
   "metadata": {},
   "outputs": [],
   "source": []
  }
 ],
 "metadata": {
  "kernelspec": {
   "display_name": "Python 3 (ipykernel)",
   "language": "python",
   "name": "python3"
  },
  "language_info": {
   "codemirror_mode": {
    "name": "ipython",
    "version": 3
   },
   "file_extension": ".py",
   "mimetype": "text/x-python",
   "name": "python",
   "nbconvert_exporter": "python",
   "pygments_lexer": "ipython3",
   "version": "3.10.6"
  }
 },
 "nbformat": 4,
 "nbformat_minor": 5
}
