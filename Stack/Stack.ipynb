{
 "cells": [
  {
   "cell_type": "markdown",
   "id": "d1984856-24d3-4784-b1eb-1a241c6f1d76",
   "metadata": {},
   "source": [
    "### Implementation of Stack using lists"
   ]
  },
  {
   "cell_type": "code",
   "execution_count": 1,
   "id": "48548eb1-3642-4e94-861a-dab90b346144",
   "metadata": {
    "execution": {
     "iopub.execute_input": "2023-07-05T07:39:02.310115Z",
     "iopub.status.busy": "2023-07-05T07:39:02.309133Z",
     "iopub.status.idle": "2023-07-05T07:39:02.342030Z",
     "shell.execute_reply": "2023-07-05T07:39:02.340844Z",
     "shell.execute_reply.started": "2023-07-05T07:39:02.310065Z"
    }
   },
   "outputs": [],
   "source": [
    "%load_ext autoreload"
   ]
  },
  {
   "cell_type": "code",
   "execution_count": 2,
   "id": "62de8d9e-9c6c-4064-b5ff-1301a12bb26c",
   "metadata": {
    "execution": {
     "iopub.execute_input": "2023-07-05T07:39:02.358464Z",
     "iopub.status.busy": "2023-07-05T07:39:02.357505Z",
     "iopub.status.idle": "2023-07-05T07:39:02.364079Z",
     "shell.execute_reply": "2023-07-05T07:39:02.362918Z",
     "shell.execute_reply.started": "2023-07-05T07:39:02.358414Z"
    },
    "tags": []
   },
   "outputs": [],
   "source": [
    "%autoreload 1"
   ]
  },
  {
   "cell_type": "code",
   "execution_count": 3,
   "id": "4063c322-81b7-43ab-abe5-5433469aeb60",
   "metadata": {
    "execution": {
     "iopub.execute_input": "2023-07-05T07:39:02.382987Z",
     "iopub.status.busy": "2023-07-05T07:39:02.380393Z",
     "iopub.status.idle": "2023-07-05T07:39:02.390967Z",
     "shell.execute_reply": "2023-07-05T07:39:02.389792Z",
     "shell.execute_reply.started": "2023-07-05T07:39:02.382935Z"
    }
   },
   "outputs": [],
   "source": [
    "%aimport stack_ds"
   ]
  },
  {
   "cell_type": "code",
   "execution_count": null,
   "id": "9c8638e1-5549-418c-b753-f2bee42e02ca",
   "metadata": {
    "tags": []
   },
   "outputs": [],
   "source": [
    "s1 = stack_ds.Stack_with_list()\n",
    "s1.push(2)\n",
    "print(s1.stack)\n",
    "s1.push(3)\n",
    "print(s1.stack)\n"
   ]
  },
  {
   "cell_type": "code",
   "execution_count": null,
   "id": "d3fe5db7-0559-4acd-806a-734074642cd7",
   "metadata": {
    "tags": []
   },
   "outputs": [],
   "source": [
    "print(s1.size_stack())\n",
    "print(s1.peek())"
   ]
  },
  {
   "cell_type": "markdown",
   "id": "1c4d0ba1-d08c-4a87-a5fe-cf82316b5a54",
   "metadata": {},
   "source": [
    "### Implementation of Stack using deque"
   ]
  },
  {
   "cell_type": "code",
   "execution_count": null,
   "id": "a41a951b-acbf-4b1b-9b68-6c88c802a595",
   "metadata": {
    "tags": []
   },
   "outputs": [],
   "source": [
    "s1 = stack_ds.Stack_with_deque(4)\n",
    "s1.push(2)\n",
    "print(s1.stack)\n",
    "s1.push(3)\n",
    "print(s1.stack)\n"
   ]
  },
  {
   "cell_type": "code",
   "execution_count": null,
   "id": "52472dd3-9c88-4c0e-a02e-a4a061f3fa93",
   "metadata": {
    "tags": []
   },
   "outputs": [],
   "source": [
    "s1.pop()"
   ]
  },
  {
   "cell_type": "code",
   "execution_count": null,
   "id": "34b0a70b-d6a7-4fae-abef-c1751c3273a2",
   "metadata": {
    "tags": []
   },
   "outputs": [],
   "source": [
    "print(s1.stack)"
   ]
  },
  {
   "cell_type": "markdown",
   "id": "fc47ac20-ae7e-4f58-831e-e6de030d894f",
   "metadata": {},
   "source": [
    "### Implementation using Queue"
   ]
  },
  {
   "cell_type": "code",
   "execution_count": 18,
   "id": "309a78c5-74d6-45ff-842a-4e6f777585f5",
   "metadata": {
    "execution": {
     "iopub.execute_input": "2023-07-05T07:50:56.354313Z",
     "iopub.status.busy": "2023-07-05T07:50:56.353532Z",
     "iopub.status.idle": "2023-07-05T07:50:56.509014Z",
     "shell.execute_reply": "2023-07-05T07:50:56.508189Z",
     "shell.execute_reply.started": "2023-07-05T07:50:56.354282Z"
    },
    "tags": []
   },
   "outputs": [
    {
     "name": "stdout",
     "output_type": "stream",
     "text": [
      "Stack: [2, 3]\n"
     ]
    }
   ],
   "source": [
    "s1 = stack_ds.Stack_with_queue(3)\n",
    "s1.push(2)\n",
    "s1.push(3)\n",
    "print(s1)\n"
   ]
  },
  {
   "cell_type": "code",
   "execution_count": null,
   "id": "9d579be9-2e91-4a20-8371-eb43c95b712e",
   "metadata": {},
   "outputs": [],
   "source": []
  }
 ],
 "metadata": {
  "kernelspec": {
   "display_name": "Python 3 (ipykernel)",
   "language": "python",
   "name": "python3"
  },
  "language_info": {
   "codemirror_mode": {
    "name": "ipython",
    "version": 3
   },
   "file_extension": ".py",
   "mimetype": "text/x-python",
   "name": "python",
   "nbconvert_exporter": "python",
   "pygments_lexer": "ipython3",
   "version": "3.10.6"
  }
 },
 "nbformat": 4,
 "nbformat_minor": 5
}
